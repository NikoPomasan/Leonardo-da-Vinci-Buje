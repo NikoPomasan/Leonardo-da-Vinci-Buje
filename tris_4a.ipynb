{
 "cells": [
  {
   "cell_type": "markdown",
   "id": "382bb70e-d206-4792-a386-3104a4dd3e8e",
   "metadata": {},
   "source": [
    "# Stampa la tavola di gioco in modo leggibile"
   ]
  },
  {
   "cell_type": "code",
   "execution_count": 5,
   "id": "2fb87556-e827-45c0-8fca-07a368b2cd85",
   "metadata": {},
   "outputs": [],
   "source": [
    "import random\n",
    "\n",
    "def print_board(board):\n",
    "    print(\"\\n\")\n",
    "    for i, row in enumerate(board):\n",
    "        print(\"|\".join(row))\n",
    "        if i < 2:  # Solo tra la prima e la seconda riga, e tra la seconda e la terza\n",
    "            print(\"-\" * 5)\n",
    "    print(\"\\n\")"
   ]
  },
  {
   "cell_type": "markdown",
   "id": "4e54db24-b850-4acd-ac1b-2fa255a7e174",
   "metadata": {},
   "source": [
    "# Controlla se un giocatore ha vinto\n",
    "# Controlla righe, colonne e diagonali per tre simboli uguali e non vuoti"
   ]
  },
  {
   "cell_type": "code",
   "execution_count": 6,
   "id": "e17144d3-e9ff-46f4-8ae4-48e24c1d6a52",
   "metadata": {},
   "outputs": [],
   "source": [
    "def check_win(board):\n",
    "    for i in range(3):\n",
    "        if board[i][0] == board[i][1] == board[i][2] and board[i][0] != \" \":\n",
    "            print(f\"Giocatore '{board[i][0]}' ha vinto! (riga {i+1})\")\n",
    "            return True\n",
    "    for i in range(3):\n",
    "        if board[0][i] == board[1][i] == board[2][i] and board[0][i] != \" \":\n",
    "            print(f\"Giocatore '{board[0][i]}' ha vinto! (colonna {i+1})\")\n",
    "            return True\n",
    "    if board[0][0] == board[1][1] == board[2][2] and board[0][0] != \" \":\n",
    "        print(f\"Giocatore '{board[0][0]}' ha vinto! (diagonale)\")\n",
    "        return True\n",
    "    if board[0][2] == board[1][1] == board[2][0] and board[0][2] != \" \":\n",
    "        print(f\"Giocatore '{board[0][2]}' ha vinto! (diagonale)\")\n",
    "        return True\n",
    "    return False"
   ]
  },
  {
   "cell_type": "markdown",
   "id": "68d47868-44cb-46e5-b764-e57214da8a72",
   "metadata": {},
   "source": [
    "# Funzione dell'intelligenza artificiale semplice\n",
    "# Restituisce una mossa a caso tra quelle disponibili\n"
   ]
  },
  {
   "cell_type": "code",
   "execution_count": 7,
   "id": "f578e6bd-3a7f-473b-bd05-be1fa73621f2",
   "metadata": {},
   "outputs": [],
   "source": [
    "def get_ai_move(board, available_moves):\n",
    "    return random.choice(available_moves)"
   ]
  },
  {
   "cell_type": "markdown",
   "id": "2efbbad7-560c-4e76-a3e6-4f5398b7e591",
   "metadata": {},
   "source": [
    "# Cambia il turno tra i due giocatori (da X a O o viceversa)\n"
   ]
  },
  {
   "cell_type": "code",
   "execution_count": 8,
   "id": "28b31304-10a1-4805-812c-e04112773dd9",
   "metadata": {},
   "outputs": [],
   "source": [
    "def switch(player):\n",
    "    return \"O\" if player == \"X\" else \"X\""
   ]
  },
  {
   "cell_type": "markdown",
   "id": "6aa3339f-d348-419e-b527-69873401a4b5",
   "metadata": {},
   "source": [
    "# Funzione principale che gestisce l'intero gioco\n",
    "# Permette di scegliere tra giocatore umano o AI\n",
    "# Controlla le mosse, le condizioni di vittoria e gestisce il flusso del gioco"
   ]
  },
  {
   "cell_type": "code",
   "execution_count": 9,
   "id": "778d5e07-4d7c-42e6-a70b-bbc6563e20cd",
   "metadata": {},
   "outputs": [],
   "source": [
    "def gioca():\n",
    "    tavola = [[\" \" for _ in range(3)] for _ in range(3)]\n",
    "    current = input(\"Giocatore 1, X o O? \").upper()\n",
    "    while current not in [\"X\", \"O\"]:\n",
    "        current = input(\"Inserisci solo X o O: \").upper()\n",
    "\n",
    "    type1 = input(\"Giocatore 1, Human o Ai? \").lower()\n",
    "    while type1 not in [\"human\", \"ai\"]:\n",
    "        type1 = input(\"Inserisci 'Human' o 'Ai': \").lower()\n",
    "\n",
    "    type2 = \"ai\" if type1 == \"human\" else \"human\"\n",
    "    player_types = {current: type1, switch(current): type2}\n",
    "\n",
    "    available_moves = [(i, j) for i in range(3) for j in range(3)]\n",
    "    turns = 0\n",
    "\n",
    "    while True:\n",
    "        print_board(tavola)\n",
    "        print(f\"Turno di {current} ({player_types[current].capitalize()})\")\n",
    "\n",
    "        if player_types[current] == \"ai\":\n",
    "            x, y = get_ai_move(tavola, available_moves)\n",
    "            print(f\"AI ha scelto: ({x}, {y})\")\n",
    "        else:\n",
    "            try:\n",
    "                x = int(input(\"Inserisci la coordinata VERTICALE (0-2): \"))\n",
    "                y = int(input(\"Inserisci la coordinata ORIZZONTALE (0-2): \"))\n",
    "            except ValueError:\n",
    "                print(\"Input non valido. Riprova.\")\n",
    "                continue\n",
    "\n",
    "        if (x, y) not in available_moves or tavola[x][y] != \" \":\n",
    "            print(\"Mossa non valida o già usata. Riprova.\")\n",
    "            continue\n",
    "\n",
    "        tavola[x][y] = current\n",
    "        available_moves.remove((x, y))\n",
    "        turns += 1\n",
    "\n",
    "        if check_win(tavola):\n",
    "            print_board(tavola)\n",
    "            break\n",
    "\n",
    "        if turns == 9:\n",
    "            print_board(tavola)\n",
    "            print(\"Pareggio!\")\n",
    "            break\n",
    "\n",
    "        current = switch(current)"
   ]
  },
  {
   "cell_type": "code",
   "execution_count": 10,
   "id": "7b89856e-9790-472c-8e8b-cc534daff10a",
   "metadata": {},
   "outputs": [
    {
     "name": "stdin",
     "output_type": "stream",
     "text": [
      "Giocatore 1, X o O?  x\n",
      "Giocatore 1, Human o Ai?  human\n"
     ]
    },
    {
     "name": "stdout",
     "output_type": "stream",
     "text": [
      "\n",
      "\n",
      " | | \n",
      "-----\n",
      " | | \n",
      "-----\n",
      " | | \n",
      "\n",
      "\n",
      "Turno di X (Human)\n"
     ]
    },
    {
     "name": "stdin",
     "output_type": "stream",
     "text": [
      "Inserisci la coordinata VERTICALE (0-2):  0\n",
      "Inserisci la coordinata ORIZZONTALE (0-2):  0\n"
     ]
    },
    {
     "name": "stdout",
     "output_type": "stream",
     "text": [
      "\n",
      "\n",
      "X| | \n",
      "-----\n",
      " | | \n",
      "-----\n",
      " | | \n",
      "\n",
      "\n",
      "Turno di O (Ai)\n",
      "AI ha scelto: (0, 2)\n",
      "\n",
      "\n",
      "X| |O\n",
      "-----\n",
      " | | \n",
      "-----\n",
      " | | \n",
      "\n",
      "\n",
      "Turno di X (Human)\n"
     ]
    },
    {
     "name": "stdin",
     "output_type": "stream",
     "text": [
      "Inserisci la coordinata VERTICALE (0-2):  1\n",
      "Inserisci la coordinata ORIZZONTALE (0-2):  1\n"
     ]
    },
    {
     "name": "stdout",
     "output_type": "stream",
     "text": [
      "\n",
      "\n",
      "X| |O\n",
      "-----\n",
      " |X| \n",
      "-----\n",
      " | | \n",
      "\n",
      "\n",
      "Turno di O (Ai)\n",
      "AI ha scelto: (2, 0)\n",
      "\n",
      "\n",
      "X| |O\n",
      "-----\n",
      " |X| \n",
      "-----\n",
      "O| | \n",
      "\n",
      "\n",
      "Turno di X (Human)\n"
     ]
    },
    {
     "name": "stdin",
     "output_type": "stream",
     "text": [
      "Inserisci la coordinata VERTICALE (0-2):  2\n",
      "Inserisci la coordinata ORIZZONTALE (0-2):  2\n"
     ]
    },
    {
     "name": "stdout",
     "output_type": "stream",
     "text": [
      "Giocatore 'X' ha vinto! (diagonale)\n",
      "\n",
      "\n",
      "X| |O\n",
      "-----\n",
      " |X| \n",
      "-----\n",
      "O| |X\n",
      "\n",
      "\n"
     ]
    }
   ],
   "source": [
    "gioca()"
   ]
  },
  {
   "cell_type": "code",
   "execution_count": null,
   "id": "edf72712-3184-4944-ab68-1bf9a5e45964",
   "metadata": {},
   "outputs": [],
   "source": []
  }
 ],
 "metadata": {
  "kernelspec": {
   "display_name": "Python 3 (ipykernel)",
   "language": "python",
   "name": "python3"
  },
  "language_info": {
   "codemirror_mode": {
    "name": "ipython",
    "version": 3
   },
   "file_extension": ".py",
   "mimetype": "text/x-python",
   "name": "python",
   "nbconvert_exporter": "python",
   "pygments_lexer": "ipython3",
   "version": "3.12.7"
  }
 },
 "nbformat": 4,
 "nbformat_minor": 5
}
