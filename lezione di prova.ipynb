{
 "cells": [
  {
   "cell_type": "markdown",
   "id": "ca5920c3-d6de-4878-b3dd-dad28dace1e9",
   "metadata": {},
   "source": [
    "Le variabili sono scatole dove delle informazioni vengono salvate per essere riutilizzate in seguito.\n",
    "Un esempio è la variabile di tipo integer:"
   ]
  },
  {
   "cell_type": "code",
   "execution_count": null,
   "id": "53a5e9bc-c39b-44d0-99ea-7ce2a0b2b156",
   "metadata": {},
   "outputs": [],
   "source": [
    "a=int(input(\"Inserisci un numero:\"))"
   ]
  },
  {
   "cell_type": "code",
   "execution_count": null,
   "id": "099b624e-5b18-4f5f-bd64-f5c83f14c545",
   "metadata": {},
   "outputs": [],
   "source": []
  }
 ],
 "metadata": {
  "kernelspec": {
   "display_name": "Python 3 (ipykernel)",
   "language": "python",
   "name": "python3"
  },
  "language_info": {
   "codemirror_mode": {
    "name": "ipython",
    "version": 3
   },
   "file_extension": ".py",
   "mimetype": "text/x-python",
   "name": "python",
   "nbconvert_exporter": "python",
   "pygments_lexer": "ipython3",
   "version": "3.12.7"
  }
 },
 "nbformat": 4,
 "nbformat_minor": 5
}
