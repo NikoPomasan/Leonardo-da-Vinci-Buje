{
 "cells": [
  {
   "cell_type": "markdown",
   "id": "ca5920c3-d6de-4878-b3dd-dad28dace1e9",
   "metadata": {},
   "source": [
    "Le variabili sono scatole dove delle informazioni vengono salvate per essere riutilizzate in seguito.\n",
    "Un esempio è la variabile di tipo integer:"
   ]
  },
  {
   "cell_type": "raw",
   "id": "02afd7ed-85e8-4e2d-80bc-8a608fec9127",
   "metadata": {},
   "source": [
    "a=int(input(\"Inserisci un numero:\"))"
   ]
  },
  {
   "cell_type": "code",
   "execution_count": null,
   "id": "8670d0d1-040f-4ed0-9415-a819f05bc341",
   "metadata": {},
   "outputs": [],
   "source": [
    "a=int(input(\"Inserisci un numero:\"))"
   ]
  }
 ],
 "metadata": {
  "kernelspec": {
   "display_name": "Python 3 (ipykernel)",
   "language": "python",
   "name": "python3"
  },
  "language_info": {
   "codemirror_mode": {
    "name": "ipython",
    "version": 3
   },
   "file_extension": ".py",
   "mimetype": "text/x-python",
   "name": "python",
   "nbconvert_exporter": "python",
   "pygments_lexer": "ipython3",
   "version": "3.12.7"
  }
 },
 "nbformat": 4,
 "nbformat_minor": 5
}
